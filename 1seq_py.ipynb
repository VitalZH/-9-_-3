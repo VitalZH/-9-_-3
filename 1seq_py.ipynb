{
  "nbformat": 4,
  "nbformat_minor": 0,
  "metadata": {
    "colab": {
      "name": "1seq.py",
      "provenance": [],
      "authorship_tag": "ABX9TyOsc4/JSdXFB805PNjaetIy",
      "include_colab_link": true
    },
    "kernelspec": {
      "name": "python3",
      "display_name": "Python 3"
    },
    "language_info": {
      "name": "python"
    }
  },
  "cells": [
    {
      "cell_type": "markdown",
      "metadata": {
        "id": "view-in-github",
        "colab_type": "text"
      },
      "source": [
        "<a href=\"https://colab.research.google.com/github/VitalZH/-9-_-3/blob/main/1seq_py.ipynb\" target=\"_parent\"><img src=\"https://colab.research.google.com/assets/colab-badge.svg\" alt=\"Open In Colab\"/></a>"
      ]
    },
    {
      "cell_type": "code",
      "source": [
        "'''\n",
        "4. (МОДУЛЬ 1) Создать новый проект, в нем создать модуль 1seq.py. Задание:\n",
        "Пользователь вводит количество элементов будущего списка\n",
        "После этого по очереди по одной вводит любые цифры\n",
        "Сохранить цифры в список\n",
        "Отсортировать список по возрастанию и вывести на экран\n",
        "Пример работы: Введите количество элементов: 3\n",
        "Введите 1 элемент: 5\n",
        "Введите 2 элемент: 2\n",
        "Введите 3 элемент: 4\n",
        "Вывод: [2, 4, 5]\n",
        "'''\n",
        "\n",
        "new_list = []\n",
        "#for i in range (3):\n",
        "#  new_list.append(int(input('enter num:')))\n",
        "#print(new_list)\n",
        "new_list = [(int(input('enter num:'))) for i in range (5)]\n",
        "print('list:', new_list)\n",
        "new_list.sort()\n",
        "print('list_sort:', new_list)\n",
        "#new_list = set(new_list)\n",
        "#print('set:', new_list)\n"
      ],
      "metadata": {
        "colab": {
          "base_uri": "https://localhost:8080/"
        },
        "id": "zf4wzbapUGSH",
        "outputId": "b28234ef-cddc-46ba-f64f-62997770eaac"
      },
      "execution_count": null,
      "outputs": [
        {
          "output_type": "stream",
          "name": "stdout",
          "text": [
            "enter num:9\n",
            "enter num:7\n",
            "enter num:6\n",
            "enter num:4\n",
            "enter num:3\n",
            "list: [9, 7, 6, 4, 3]\n",
            "list_sort: [3, 4, 6, 7, 9]\n"
          ]
        }
      ]
    }
  ]
}