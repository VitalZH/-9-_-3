{
  "nbformat": 4,
  "nbformat_minor": 0,
  "metadata": {
    "colab": {
      "name": "2seq.py",
      "provenance": [],
      "authorship_tag": "ABX9TyPvrOuH42eXZ3MYKUZ0/Lcl",
      "include_colab_link": true
    },
    "kernelspec": {
      "name": "python3",
      "display_name": "Python 3"
    },
    "language_info": {
      "name": "python"
    }
  },
  "cells": [
    {
      "cell_type": "markdown",
      "metadata": {
        "id": "view-in-github",
        "colab_type": "text"
      },
      "source": [
        "<a href=\"https://colab.research.google.com/github/VitalZH/-9-_-3/blob/main/2seq_py.ipynb\" target=\"_parent\"><img src=\"https://colab.research.google.com/assets/colab-badge.svg\" alt=\"Open In Colab\"/></a>"
      ]
    },
    {
      "cell_type": "code",
      "source": [
        "'''\n",
        "5. (МОДУЛЬ 2) создать модуль 2seq.py. Задание:\n",
        "Пользователь вводит любые цифры через запятую\n",
        "Сохранить цифры в список\n",
        "Получить новый список в котором будут только уникальные элементы исходного (уникальным считается символ, который встречается в исходном списке только 1 раз)\n",
        "Вывести новый список на экран\n",
        "Порядок цифр в новом списке не важен\n",
        "Пример работы: Введите элементы списка через запятую: 2,3,4,5,5,6,5,3,9\n",
        "Результат: 2, 4, 6, 9\n",
        "\n",
        "(Дополнительно*) Предусмотреть что пользователь может использовать один из 3-х разделителей:\n",
        " запятую, точку с запятой, слэш (1,2,3 1;2;3 1/2/3), но только какой то один 1,2;3/4 - так нельзя\n",
        "'''\n",
        "\n",
        "new_list = input('enter a list values:')\n",
        "print('str', new_list)\n",
        "print(type(new_list))\n",
        "new_list = new_list.replace(';', ' ').replace('/', ' ').replace(',', ' ').split()\n",
        "print('replace and split list', new_list)\n",
        "print(type(new_list))\n",
        "new_list = set(new_list)\n",
        "print('set', new_list)\n",
        "print(type(new_list))"
      ],
      "metadata": {
        "colab": {
          "base_uri": "https://localhost:8080/"
        },
        "id": "MovIIYvUhvUo",
        "outputId": "57b3dad0-d7df-4ccf-92c1-282d86780e4c"
      },
      "execution_count": null,
      "outputs": [
        {
          "output_type": "stream",
          "name": "stdout",
          "text": [
            "enter a list values:1,,,,3//5  6;; / 7,7/6,5,/4rr\n",
            "str 1,,,,3//5  6;; / 7,7/6,5,/4rr\n",
            "<class 'str'>\n",
            "replace and split list ['1', '3', '5', '6', '7', '7', '6', '5', '4rr']\n",
            "<class 'list'>\n",
            "set {'7', '4rr', '5', '6', '3', '1'}\n",
            "<class 'set'>\n"
          ]
        }
      ]
    }
  ]
}