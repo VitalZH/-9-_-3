{
  "nbformat": 4,
  "nbformat_minor": 0,
  "metadata": {
    "colab": {
      "name": "3seq.py",
      "provenance": [],
      "authorship_tag": "ABX9TyPavXLpRFRC3uCVbxptniM/",
      "include_colab_link": true
    },
    "kernelspec": {
      "name": "python3",
      "display_name": "Python 3"
    },
    "language_info": {
      "name": "python"
    }
  },
  "cells": [
    {
      "cell_type": "markdown",
      "metadata": {
        "id": "view-in-github",
        "colab_type": "text"
      },
      "source": [
        "<a href=\"https://colab.research.google.com/github/VitalZH/-9-_-3/blob/main/3seq_py.ipynb\" target=\"_parent\"><img src=\"https://colab.research.google.com/assets/colab-badge.svg\" alt=\"Open In Colab\"/></a>"
      ]
    },
    {
      "cell_type": "code",
      "source": [
        "'''\n",
        "6. (МОДУЛЬ 3) В проекте создать новый модуль 3seq.py. Задание:\n",
        "\n",
        "Пользователь вводит элементы 1-го списка (по очереди как в МОДУЛЬ 1 или вместе как в МОДУЛЬ 2)\n",
        "Затем он вводит элементы 2-го списка\n",
        "Удалить из первого списка элементы присутствующие во 2-ом и вывести результат на экран\n",
        "Пример работы: Введите элементы 1-го списка: 1,2,3,4,5\n",
        "Введите элементы 2-го списка: 2,5\n",
        "Результат: 1,3,4\n",
        "\n",
        "Предлагаю проверить работу программы на разных списках, чтобы убедиться что она работает верно\n",
        "\n",
        "'''\n",
        "\n",
        "new_list1 = [(int(input('enter num:'))) for i in range (4)]\n",
        "new_list1 = set(new_list1)\n",
        "print('list2 set:', new_list1)\n",
        "new_list2 = input('enter list#2 values:')\n",
        "new_list2 = new_list2.replace(',', ' ').replace('/', ' ').split()\n",
        "new_list2 = (int(i) for i in new_list2)\n",
        "new_list2 = set(new_list2)\n",
        "print('list2 set:', new_list2)\n",
        "print('list1 - list2:', new_list1 - new_list2)\n"
      ],
      "metadata": {
        "colab": {
          "base_uri": "https://localhost:8080/"
        },
        "id": "4WLvQf0uKlKB",
        "outputId": "69fe3da7-4df5-432f-cc18-686268077bfb"
      },
      "execution_count": null,
      "outputs": [
        {
          "output_type": "stream",
          "name": "stdout",
          "text": [
            "enter num:1\n",
            "enter num:2\n",
            "enter num:3\n",
            "enter num:4\n",
            "list2 set: {1, 2, 3, 4}\n",
            "enter list#2 values:2/3,1\n",
            "list2 set: {1, 2, 3}\n",
            "list1 - list2: {4}\n"
          ]
        }
      ]
    }
  ]
}