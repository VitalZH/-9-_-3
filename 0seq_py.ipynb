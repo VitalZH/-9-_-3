{
  "nbformat": 4,
  "nbformat_minor": 0,
  "metadata": {
    "colab": {
      "name": "0seq.py",
      "provenance": [],
      "authorship_tag": "ABX9TyMmIzmspWpIe7xsN2J5Scfw",
      "include_colab_link": true
    },
    "kernelspec": {
      "name": "python3",
      "display_name": "Python 3"
    },
    "language_info": {
      "name": "python"
    }
  },
  "cells": [
    {
      "cell_type": "markdown",
      "metadata": {
        "id": "view-in-github",
        "colab_type": "text"
      },
      "source": [
        "<a href=\"https://colab.research.google.com/github/VitalZH/-9-_-3/blob/main/0seq_py.ipynb\" target=\"_parent\"><img src=\"https://colab.research.google.com/assets/colab-badge.svg\" alt=\"Open In Colab\"/></a>"
      ]
    },
    {
      "cell_type": "code",
      "execution_count": null,
      "metadata": {
        "colab": {
          "base_uri": "https://localhost:8080/",
          "height": 304
        },
        "id": "HirIvMm7sbLO",
        "outputId": "4764f8f0-0948-43e9-caf5-ae14ad067bf5"
      },
      "outputs": [
        {
          "output_type": "stream",
          "name": "stdout",
          "text": [
            "возвращает значение по ключу povder: 10\n",
            "возвращает кол-во пар в словаре: 4\n",
            "{'povder': 10, 'milk': 5, 'eggs': 3, 'butter': 0.5}\n",
            "{'povder': 10, 'milk': 5, 'eggs': 3, 'butter': 0.5, 'salt': False}\n",
            "добавление и изменение элемента: {'povder': 10, 'milk': 5, 'eggs': 3, 'butter': 0.5, 'salt': True}\n",
            "удаление элемента salt: {'povder': 10, 'milk': 5, 'eggs': 3, 'butter': 0.5}\n",
            "Методы, получить значения словарей\n",
            "получить ключи из словаря dict_keys(['povder', 'milk', 'eggs', 'butter'])\n",
            "определение типа <class 'dict_keys'>\n",
            "получить ключи как список ['povder', 'milk', 'eggs', 'butter']\n",
            "получить значения словаря как список [10, 5, 3, 0.5]\n",
            "получить целые пары как список [('povder', 10), ('milk', 5), ('eggs', 3), ('butter', 0.5)]\n",
            "True\n"
          ]
        },
        {
          "output_type": "execute_result",
          "data": {
            "text/plain": [
              "\"\\n#методы множества (set)\\nbike = ['weels', 'frame', 'whel', 'pedal', 'pedal'] #словарь преобразуем в МНОЖЕСТВО\\ncar ={'weels', 'frame', 'windscreen', 'motor', 'pedal'} #множество\\n\\n#1_преобразование типов Словарь в множество\\nbike = set(bike)\\nprint(bike)\\n\\n#2_добавление элементов\\nbike.add('chain')\\nprint(bike)\\n\\n#3_операции с множествами - объединение\\nprint(bike - car)\\n#print(bike -= car)\\n\\n\\nprint('_________________')\\nprint('bike - car ', bike - car)\\nprint('car - bike', car - bike)\\nprint('car и там и там bike', bike&car)\\nprint(bike.intersection(car))\\nprint('<=', bike <= car)\\nprint('car объеденить bike', bike|car)\\nprint('End')\\n\""
            ],
            "application/vnd.google.colaboratory.intrinsic+json": {
              "type": "string"
            }
          },
          "metadata": {},
          "execution_count": 5
        }
      ],
      "source": [
        "'''\n",
        "модуль0_задания_1-3\n",
        "\n",
        "1. Из всех методов списка (list) выбрать 5 тех, которые по вашему мнению используются чаще всего\n",
        "2. Написать их через запятую с параметрами\n",
        "3. Повторить процедуру для словарей (dict), множеств (set), строк (str)\n",
        "Задание творческое правильного ответа нет, предлагаю логически подумать какие методы наиболее популярные\n",
        "'''\n",
        "'''\n",
        "#методы строк (str)\n",
        "hello = 'hello world'\n",
        "# 1_срезы\n",
        "print('1_срезы', hello[::-1])\n",
        "\n",
        "# 2_длина_строки\n",
        "print('2_длина_строки', len(hello))\n",
        "\n",
        "# 3_замена\n",
        "new_hello = hello.replace('world', 'Мир') # !!!с_учетом_регистра\n",
        "print('3_замена', new_hello)\n",
        "\n",
        "# 4_конкатенация_FORMAT\n",
        "info = 'Слово1: {} Слово2: {}'.format(hello, hello*2)\n",
        "print('вар_1_format:',info)\n",
        "info = f'Слово1: {hello} Слово2: {hello*2}'\n",
        "print('вар_2_format:', info)\n",
        "\n",
        "# 5_оператор вхо;дения \"проверка на наличие данных в строке\"\n",
        "print('проверка наличия букв: word', 'word' in hello)\n",
        "'''\n",
        "'''\n",
        "#методы списков (list)\n",
        "food = ['eggs', 'milk', 'water', 'potato']\n",
        "\n",
        "# 1_добавление в конец списка\n",
        "food.append('chees')\n",
        "print('добавление в конец списка Сыр', food)\n",
        "\n",
        "# 2_удалние эл-та по значенинию\n",
        "food.remove('water')\n",
        "print('удалние элемента со значением \\'вода\\'', food)\n",
        "\n",
        "# 3_вставление по номеру элемента списка\n",
        "food.insert(2, 'chiken')\n",
        "print('вставление элемента со значением \\'цыпленок\\'',food)\n",
        "\n",
        "# 4_удаление элеманта со значением\n",
        "#food.append('milk')\n",
        "food.remove('milk')\n",
        "print('удаление элеманта со значением milk', food)\n",
        "\n",
        "# 5_изменение по номеру элемента\n",
        "food[0] = 'bread'\n",
        "print('изменение по номеру элемента', food)\n",
        "\n",
        "# 6_удаление по номеру элемента\n",
        "food.append('milk')\n",
        "del food[1]\n",
        "print('удаление по номеру элемента', food)\n",
        "\n",
        "# 7_сортировка элементов\n",
        "food.sort()\n",
        "print('сортировка', food)\n",
        "'''\n",
        "'''\n",
        "#методы словарей (dict)\n",
        "dic_sampl = {\n",
        "    'povder': 10,\n",
        "    'milk': 5,\n",
        "    'eggs': 3,\n",
        "    'butter': 0.5\n",
        "}\n",
        "#1_метод поиск по ключу\n",
        "print('возвращает значение по ключу povder:', dic_sampl['povder'])\n",
        "\n",
        "#2_кол-во пар в словаре\n",
        "print('возвращает кол-во пар в словаре:', len(dic_sampl))\n",
        "\n",
        "#3_добавление пары в словарь\n",
        "print(dic_sampl)\n",
        "dic_sampl['salt'] = False\n",
        "print(dic_sampl)\n",
        "dic_sampl['salt'] = True\n",
        "print('добавление и изменение элемента:', dic_sampl)\n",
        "\n",
        "#4_удаление пары\n",
        "del dic_sampl['salt']\n",
        "print('удаление элемента salt:', dic_sampl)\n",
        "\n",
        "#5_Методы, получить значения словарей\n",
        "print('Методы, получить значения словарей')\n",
        "print('получить ключи из словаря', dic_sampl.keys())\n",
        "print('определение типа', type(dic_sampl.keys()))\n",
        "print('получить ключи как список', list(dic_sampl.keys()))\n",
        "# значения\n",
        "print('получить значения словаря как список', list(dic_sampl.values()))\n",
        "# пары ключ значение - кортежи\n",
        "print('получить целые пары как список', list(dic_sampl.items()))\n",
        "\n",
        "#5_Методы, проверить наличие ключа или его значения БУЛЕВОЕ значение\n",
        "print('povder' in dic_sampl.keys())\n",
        "'''\n",
        "'''\n",
        "#методы множества (set)\n",
        "bike = ['weels', 'frame', 'whel', 'pedal', 'pedal'] #словарь преобразуем в МНОЖЕСТВО\n",
        "car ={'weels', 'frame', 'windscreen', 'motor', 'pedal'} #множество\n",
        "\n",
        "#1_преобразование типов Словарь в множество\n",
        "bike = set(bike)\n",
        "print(bike)\n",
        "\n",
        "#2_добавление элементов\n",
        "bike.add('chain')\n",
        "print(bike)\n",
        "\n",
        "#3_операции с множествами - объединение\n",
        "print(bike - car)\n",
        "#print(bike -= car)\n",
        "\n",
        "#4_операции с множествами \n",
        "print('_________________')\n",
        "print('bike - car ', bike - car)\n",
        "print('car - bike', car - bike)\n",
        "print('car и там и там bike', bike&car)\n",
        "print(bike.intersection(car))\n",
        "print('<=', bike <= car)\n",
        "print('car объеденить bike', bike|car)\n",
        "print('End')\n",
        "'''"
      ]
    }
  ]
}